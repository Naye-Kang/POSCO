{
 "cells": [
  {
   "cell_type": "markdown",
   "metadata": {},
   "source": [
    "## Libary"
   ]
  },
  {
   "cell_type": "code",
   "execution_count": 1,
   "metadata": {},
   "outputs": [
    {
     "name": "stdout",
     "output_type": "stream",
     "text": [
      "device: gpu\n"
     ]
    }
   ],
   "source": [
    "import torch\n",
    "import torch.nn as nn\n",
    "import torch.optim as optim\n",
    "import torch.nn.init as init\n",
    "import torchvision.datasets as dataset # for loading dataset\n",
    "import torchvision.transforms as transforms # for processing datasets\n",
    "from torch.utils.data import DataLoader # for making dataset easier to use \n",
    "from torch.utils.data import random_split\n",
    "\n",
    "from matplotlib import pyplot as plt\n",
    "import numpy as np\n",
    "    \n",
    "device = torch.device(\"cuda:0\" if torch.cuda.is_available() else \"cpu\")\n",
    "print(\"device: gpu\") if torch.cuda.is_available() else print(\"device: cpu\")"
   ]
  },
  {
   "cell_type": "markdown",
   "metadata": {},
   "source": [
    "## Hyper parameter setting"
   ]
  },
  {
   "cell_type": "code",
   "execution_count": 2,
   "metadata": {},
   "outputs": [],
   "source": [
    "#hyper parameter setting\n",
    "learning_rate = 1e-2\n",
    "training_epochs = 200\n",
    "display_step = 10\n",
    "batch_size = 128\n",
    "validation_ratio = 0.1\n",
    "\n",
    "activation = nn.ReLU()\n",
    "max_pool = nn.MaxPool2d(2) # kerel size, stride size, padding size "
   ]
  },
  {
   "cell_type": "markdown",
   "metadata": {},
   "source": [
    "## Load data & Pre-process data"
   ]
  },
  {
   "cell_type": "code",
   "execution_count": 3,
   "metadata": {},
   "outputs": [
    {
     "name": "stdout",
     "output_type": "stream",
     "text": [
      "Files already downloaded and verified\n",
      "Files already downloaded and verified\n"
     ]
    },
    {
     "name": "stderr",
     "output_type": "stream",
     "text": [
      "Clipping input data to the valid range for imshow with RGB data ([0..1] for floats or [0..255] for integers).\n"
     ]
    },
    {
     "name": "stdout",
     "output_type": "stream",
     "text": [
      "len(train_data):  50000\n",
      "len(test_data):  10000\n"
     ]
    },
    {
     "data": {
      "image/png": "[encoded data removed]",
      "text/plain": [
       "<Figure size 432x288 with 1 Axes>"
      ]
     },
     "metadata": {
      "needs_background": "light"
     },
     "output_type": "display_data"
    }
   ],
   "source": [
    "# compose data\n",
    "transform_train = transforms.Compose([\n",
    "    transforms.RandomCrop(32, padding=4),\n",
    "    transforms.RandomHorizontalFlip(),\n",
    "    transforms.ToTensor(),\n",
    "    transforms.Normalize((0.4914, 0.4822, 0.4465), (0.2023, 0.1994, 0.2010)),\n",
    "])\n",
    "\n",
    "transform_test = transforms.Compose([\n",
    "    transforms.ToTensor(),\n",
    "    transforms.Normalize((0.4914, 0.4822, 0.4465), (0.2023, 0.1994, 0.2010)),\n",
    "])\n",
    "\n",
    "# load data\n",
    "train_data = dataset.CIFAR10(\"./data\", train=True, transform=transform_train, target_transform=None, download=True)\n",
    "test_data = dataset.CIFAR10(\"./data\", train=False, transform=transform_test, target_transform=None, download=True)\n",
    "\n",
    "# check the data\n",
    "print(\"len(train_data): \", len(train_data))\n",
    "print(\"len(test_data): \", len(test_data))\n",
    "\n",
    "x_train, y_train = train_data[0]\n",
    "x_train = np.transpose(x_train, (1, 2, 0))\n",
    "\n",
    "plt.figure()\n",
    "plt.imshow(x_train)\n",
    "plt.show()\n"
   ]
  },
  {
   "cell_type": "code",
   "execution_count": 4,
   "metadata": {},
   "outputs": [
    {
     "name": "stdout",
     "output_type": "stream",
     "text": [
      "train_data 길이:  45000\n",
      "valid_data 길이:  5000\n"
     ]
    }
   ],
   "source": [
    "# split train date with validation set\n",
    "valid_size = int(len(train_data) * validation_ratio)\n",
    "train_data, valid_data = random_split(train_data, [len(train_data)-valid_size, valid_size])\n",
    "print('train_data 길이: ', len(train_data))\n",
    "print('valid_data 길이: ', len(valid_data))"
   ]
  },
  {
   "cell_type": "code",
   "execution_count": 5,
   "metadata": {},
   "outputs": [
    {
     "name": "stderr",
     "output_type": "stream",
     "text": [
      "Clipping input data to the valid range for imshow with RGB data ([0..1] for floats or [0..255] for integers).\n"
     ]
    },
    {
     "name": "stdout",
     "output_type": "stream",
     "text": [
      "data shape:  torch.Size([128, 3, 32, 32])\n",
      "label:  tensor(3)\n"
     ]
    },
    {
     "data": {
      "image/png": "[encoded data removed]",
      "text/plain": [
       "<Figure size 432x288 with 1 Axes>"
      ]
     },
     "metadata": {
      "needs_background": "light"
     },
     "output_type": "display_data"
    }
   ],
   "source": [
    "# Pre-process (batch, shuffle)\n",
    "train_loader = torch.utils.data.DataLoader(train_data, batch_size = batch_size, shuffle=True, num_workers = 1, drop_last = True)\n",
    "valid_loader = torch.utils.data.DataLoader(valid_data, batch_size = batch_size, shuffle=True, num_workers = 1, drop_last = True)\n",
    "test_loader = torch.utils.data.DataLoader(test_data, batch_size = batch_size, num_workers = 1, drop_last = True)\n",
    "\n",
    "# check the data\n",
    "examples = enumerate(train_loader)\n",
    "batch_idx, (example_data, example_target) = next(examples)\n",
    "\n",
    "print(\"data shape: \", example_data.shape)\n",
    "print(\"label: \", example_target[0])\n",
    "\n",
    "check_image = example_data[0]\n",
    "check_image = np.transpose(check_image, (1, 2, 0))\n",
    "\n",
    "plt.figure()\n",
    "plt.imshow(check_image)\n",
    "plt.show()"
   ]
  },
  {
   "cell_type": "markdown",
   "metadata": {},
   "source": [
    "## Modeling"
   ]
  },
  {
   "cell_type": "code",
   "execution_count": 6,
   "metadata": {},
   "outputs": [],
   "source": [
    "class CNN(nn.Module):\n",
    "    def __init__(self):\n",
    "        super(CNN, self).__init__() # for initializing nn.Module (parent class)\n",
    "        self.feature_extraction = nn.Sequential( \n",
    "            nn.Conv2d(3, 64, 3, padding=1), # number of input channel, number of output channel, kernel size \n",
    "            nn.BatchNorm2d(64),             # we can set stride size and padding size. if we do not set the these parameters, default value is 1, 0.\n",
    "            activation,                     \n",
    "            nn.Dropout(0.3),\n",
    "            \n",
    "            nn.Conv2d(64, 64, 3, padding=1),\n",
    "            nn.BatchNorm2d(64),\n",
    "            activation,\n",
    "            max_pool,\n",
    "            \n",
    "            nn.Conv2d(64, 128, 3, padding=1),\n",
    "            nn.BatchNorm2d(128),\n",
    "            activation,\n",
    "            nn.Dropout(0.4),\n",
    "            \n",
    "            nn.Conv2d(128, 128, 3, padding=1),\n",
    "            nn.BatchNorm2d(128),\n",
    "            activation,\n",
    "            max_pool, \n",
    "            \n",
    "            nn.Conv2d(128, 256, 3, padding=1),\n",
    "            nn.BatchNorm2d(256),\n",
    "            activation,\n",
    "            nn.Dropout(0.4),\n",
    "            \n",
    "            nn.Conv2d(256, 256, 3, padding=1),\n",
    "            nn.BatchNorm2d(256),\n",
    "            activation,\n",
    "            nn.Dropout(0.4),\n",
    "            \n",
    "            nn.Conv2d(256, 256, 3, padding=1),\n",
    "            nn.BatchNorm2d(256),\n",
    "            activation,\n",
    "            max_pool,\n",
    "            \n",
    "            nn.Conv2d(256, 512, 3, padding=1),\n",
    "            nn.BatchNorm2d(512),\n",
    "            activation,\n",
    "            nn.Dropout(0.4),\n",
    "            \n",
    "            nn.Conv2d(512, 512, 3, padding=1),\n",
    "            nn.BatchNorm2d(512),\n",
    "            activation,\n",
    "            nn.Dropout(0.4),\n",
    "            \n",
    "            nn.Conv2d(512, 512, 3, padding=1),\n",
    "            nn.BatchNorm2d(512),\n",
    "            activation,\n",
    "            max_pool,\n",
    "            \n",
    "            nn.Conv2d(512, 512, 3, padding=1),\n",
    "            nn.BatchNorm2d(512),\n",
    "            activation,\n",
    "            nn.Dropout(0.4),\n",
    "            \n",
    "            nn.Conv2d(512, 512, 3, padding=1),\n",
    "            nn.BatchNorm2d(512),\n",
    "            activation,\n",
    "            nn.Dropout(0.4),\n",
    "            \n",
    "            nn.Conv2d(512, 512, 3, padding=1),\n",
    "            nn.BatchNorm2d(512),\n",
    "            activation,\n",
    "            max_pool,\n",
    "            nn.Dropout(0.5),\n",
    "        )\n",
    "        self.classifier = nn.Sequential(\n",
    "            nn.Linear(512, 512),\n",
    "            nn.BatchNorm1d(512),\n",
    "            activation,\n",
    "            nn.Dropout(0.5),\n",
    "            nn.Linear(512, 10)\n",
    "        )\n",
    "    def forward(self, x):\n",
    "        extracted_feature = self.feature_extraction(x) \n",
    "        flatten = extracted_feature.view(batch_size, -1)\n",
    "        result = self.classifier(flatten)\n",
    "        return result\n",
    "    \n",
    "    #100 dimensional vector\n",
    "    # numpy -reshape(5,-1)\n",
    "    # torch -view(-1,5)\n",
    "    \n",
    "model = CNN().to(device)\n",
    "model.train()\n",
    "loss_function = nn.CrossEntropyLoss()\n",
    "optimizer = optim.Adam(model.parameters(), lr = learning_rate, weight_decay=1e-6)\n",
    "scheduler = optim.lr_scheduler.StepLR(optimizer, step_size = 1, gamma = 0.99)"
   ]
  },
  {
   "cell_type": "markdown",
   "metadata": {},
   "source": [
    "## Train & Test"
   ]
  },
  {
   "cell_type": "code",
   "execution_count": 7,
   "metadata": {},
   "outputs": [
    {
     "name": "stderr",
     "output_type": "stream",
     "text": [
      "/home/pirl/anaconda3/envs/project1/lib/python3.8/site-packages/torch/optim/lr_scheduler.py:118: UserWarning: Detected call of `lr_scheduler.step()` before `optimizer.step()`. In PyTorch 1.1.0 and later, you should call them in the opposite order: `optimizer.step()` before `lr_scheduler.step()`.  Failure to do this will result in PyTorch skipping the first value of the learning rate schedule. See more details at https://pytorch.org/docs/stable/optim.html#how-to-adjust-learning-rate\n",
      "  warnings.warn(\"Detected call of `lr_scheduler.step()` before `optimizer.step()`. \"\n"
     ]
    },
    {
     "name": "stdout",
     "output_type": "stream",
     "text": [
      "0 epoch loss: 2.111097812652588\n",
      "10 epoch loss: 0.8161717057228088\n",
      "20 epoch loss: 0.6456919312477112\n",
      "30 epoch loss: 0.4030783474445343\n",
      "40 epoch loss: 0.37220898270606995\n",
      "50 epoch loss: 0.3188883066177368\n",
      "60 epoch loss: 0.21205075085163116\n",
      "70 epoch loss: 0.2641332149505615\n",
      "80 epoch loss: 0.2145734280347824\n",
      "90 epoch loss: 0.1732998937368393\n",
      "100 epoch loss: 0.13840129971504211\n",
      "110 epoch loss: 0.16682401299476624\n",
      "120 epoch loss: 0.25426456332206726\n",
      "130 epoch loss: 0.1727197766304016\n",
      "140 epoch loss: 0.1420978605747223\n",
      "150 epoch loss: 0.14748823642730713\n",
      "160 epoch loss: 0.1512930989265442\n",
      "170 epoch loss: 0.08144273608922958\n",
      "180 epoch loss: 0.046271905303001404\n",
      "190 epoch loss: 0.08623021095991135\n"
     ]
    }
   ],
   "source": [
    "loss_array = []\n",
    "\n",
    "# train the model\n",
    "for i in range(training_epochs):\n",
    "    scheduler.step()\n",
    "    for index, [data, label] in enumerate(train_loader):\n",
    "        data = data.to(device)\n",
    "        label = label.to(device)\n",
    "                \n",
    "        optimizer.zero_grad()\n",
    "        output = model.forward(data)\n",
    "        loss = loss_function(output, label)\n",
    "        loss.backward()\n",
    "        optimizer.step()\n",
    "    \n",
    "    if i % display_step == 0:\n",
    "        print('{} epoch loss: {}'.format(i,loss))\n",
    "        loss_array.append(loss.cpu().detach().numpy())        "
   ]
  },
  {
   "cell_type": "code",
   "execution_count": 8,
   "metadata": {},
   "outputs": [
    {
     "name": "stdout",
     "output_type": "stream",
     "text": [
      "Accuracy of the model: 0.9098557829856873\n"
     ]
    }
   ],
   "source": [
    "#test the model\n",
    "model.eval()\n",
    "correct = 0\n",
    "total = 0\n",
    "    \n",
    "prediction_list = []\n",
    "label_list = []\n",
    "\n",
    "with torch.no_grad():\n",
    "    for index, [data, label] in enumerate(valid_loader):\n",
    "        data = data.to(device)\n",
    "        label = label.to(device)\n",
    "            \n",
    "        output = model.forward(data)\n",
    "        _, prediction_index = torch.max(output, 1)\n",
    "            \n",
    "        prediction_list.append(prediction_index)\n",
    "        label_list.append(label)\n",
    "            \n",
    "        total += label.size(0)\n",
    "        correct += (prediction_index==label).sum().float()\n",
    "        \n",
    "    print(\"Accuracy of the model: {}\".format(correct/total))"
   ]
  }
 ],
 "metadata": {
  "kernelspec": {
   "display_name": "Python 3",
   "language": "python",
   "name": "python3"
  },
  "language_info": {
   "codemirror_mode": {
    "name": "ipython",
    "version": 3
   },
   "file_extension": ".py",
   "mimetype": "text/x-python",
   "name": "python",
   "nbconvert_exporter": "python",
   "pygments_lexer": "ipython3",
   "version": "3.8.3"
  }
 },
 "nbformat": 4,
 "nbformat_minor": 4
}
