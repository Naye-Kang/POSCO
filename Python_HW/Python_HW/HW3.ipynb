{
 "cells": [
  {
   "cell_type": "markdown",
   "metadata": {},
   "source": [
    "# 문제11) ★출력 프로그램 "
   ]
  },
  {
   "cell_type": "code",
   "execution_count": 2,
   "metadata": {},
   "outputs": [
    {
     "name": "stdout",
     "output_type": "stream",
     "text": [
      "Input an Integer: 3159\n",
      "★★★\n",
      "★\n",
      "★★★★★\n",
      "★★★★★★★★★\n"
     ]
    }
   ],
   "source": [
    "number=input(\"Input an Integer: \")\n",
    "for x in number :\n",
    "    print(\"★\"*int(x))"
   ]
  },
  {
   "cell_type": "markdown",
   "metadata": {},
   "source": [
    "# 문제12) -PPT문제"
   ]
  },
  {
   "cell_type": "code",
   "execution_count": 16,
   "metadata": {},
   "outputs": [
    {
     "name": "stdout",
     "output_type": "stream",
     "text": [
      "Enter a number: 7\n",
      "Enter a number: 2\n",
      "Enter a number: 9\n",
      "Enter a number: 3\n",
      "Enter a number: 5\n",
      "Enter a number: done\n",
      "\n",
      "[7, 2, 9, 3, 5]\n",
      "Average: 5.2\n",
      "Maximum: 9\n",
      "Minumum: 2\n"
     ]
    }
   ],
   "source": [
    "number=list()\n",
    "while True:\n",
    "    num=input(\"Enter a number: \")\n",
    "    if num==\"done\":\n",
    "        break\n",
    "    else :\n",
    "        number.append(int(num))\n",
    "print(\"\")\n",
    "print(number)\n",
    "print(\"Average: %s\" %(sum(number)/len(number)))\n",
    "print(\"Maximum: %s\" %(max(number)))\n",
    "print(\"Minumum: %s\" %(min(number)))"
   ]
  },
  {
   "cell_type": "markdown",
   "metadata": {},
   "source": [
    "# 1. 딕셔너리(dict)"
   ]
  },
  {
   "cell_type": "code",
   "execution_count": 21,
   "metadata": {},
   "outputs": [
    {
     "name": "stdout",
     "output_type": "stream",
     "text": [
      "1 2 10 "
     ]
    }
   ],
   "source": [
    "#실습1 \n",
    "d={'youn':1, 'park':2, 'kim':10}\n",
    "for x in d.values():\n",
    "    print (x, end=\" \")"
   ]
  },
  {
   "cell_type": "code",
   "execution_count": 39,
   "metadata": {},
   "outputs": [
    {
     "name": "stdout",
     "output_type": "stream",
     "text": [
      "five 5\n",
      "four 4\n",
      "one 1\n",
      "three 3\n",
      "two 2\n"
     ]
    }
   ],
   "source": [
    "#실습2 \n",
    "dic={'one':1, 'two':2, 'three':3, 'four':4, 'five':5}\n",
    "for (key,value) in sorted(dic.items()):\n",
    "    print(key, value)"
   ]
  },
  {
   "cell_type": "code",
   "execution_count": 41,
   "metadata": {},
   "outputs": [
    {
     "name": "stdout",
     "output_type": "stream",
     "text": [
      "Enter a sentence: Python is fun!\n",
      "{'P': 1, 'y': 1, 't': 1, 'h': 1, 'o': 1, 'n': 2, ' ': 2, 'i': 1, 's': 1, 'f': 1, 'u': 1, '!': 1}\n"
     ]
    }
   ],
   "source": [
    "#실습3\n",
    "sen=input(\"Enter a sentence: \")\n",
    "dic=dict()\n",
    "for x in sen: \n",
    "    dic[x]=sen.count(x)\n",
    "print(dic)"
   ]
  },
  {
   "cell_type": "markdown",
   "metadata": {},
   "source": [
    "# 1. 파일"
   ]
  },
  {
   "cell_type": "code",
   "execution_count": 89,
   "metadata": {},
   "outputs": [
    {
     "name": "stdout",
     "output_type": "stream",
     "text": [
      "first 1\n",
      "line 3\n",
      "second 1\n",
      "third 1\n"
     ]
    }
   ],
   "source": [
    "#실습 1\n",
    "f=open(\"test.txt\",\"r\")\n",
    "data=f.read()\n",
    "f.close()\n",
    "data\n",
    "word=data.split()\n",
    "dic=dict()\n",
    "for x in word:\n",
    "    dic[x]=word.count(x)\n",
    "for (key,value) in (dic.items()):\n",
    "    print(key, value)"
   ]
  },
  {
   "cell_type": "code",
   "execution_count": 132,
   "metadata": {},
   "outputs": [],
   "source": [
    "#실습 4\n",
    "f=open(\"score.txt\",\"r\")\n",
    "data=f.read()\n",
    "f.close()\n",
    "score=data.split('\\n')\n",
    "\n",
    "fa=open(\"report.txt\",\"w\") \n",
    "\n",
    "for line in range(len(score)): \n",
    "    mid=int(score[line][7:9])\n",
    "    fin=int(score[line][10:12])\n",
    "    tot=(0.4*mid)+(0.6*fin)\n",
    "    \n",
    "    if tot >= 90:\n",
    "        fa.write('%s %s(A)\\n'%(score[line],tot))\n",
    "    elif 90 > tot >= 80:\n",
    "        fa.write('%s %s(B)\\n'%(score[line],tot))\n",
    "    elif 80 > tot >= 70:\n",
    "        fa.write('%s %s(C)\\n'%(score[line],tot))\n",
    "    elif 70 > tot >= 60:\n",
    "        fa.write('%s %s(D)\\n'%(score[line],tot))\n",
    "    else: \n",
    "        fa.write('%s %s(F)\\n'%(score[line],tot))\n",
    "        \n",
    "fa.close()"
   ]
  }
 ],
 "metadata": {
  "kernelspec": {
   "display_name": "Python 3",
   "language": "python",
   "name": "python3"
  },
  "language_info": {
   "codemirror_mode": {
    "name": "ipython",
    "version": 3
   },
   "file_extension": ".py",
   "mimetype": "text/x-python",
   "name": "python",
   "nbconvert_exporter": "python",
   "pygments_lexer": "ipython3",
   "version": "3.8.3"
  }
 },
 "nbformat": 4,
 "nbformat_minor": 4
}
