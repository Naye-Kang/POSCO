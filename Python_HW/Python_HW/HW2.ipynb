{
 "cells": [
  {
   "cell_type": "markdown",
   "metadata": {},
   "source": [
    "# (문제4) \n",
    "2개의 정수를 입력 받아, 사칙연산 및 나머지 연산의 결과를 아래와 같이 출력하는 프로그램을 작성하시오."
   ]
  },
  {
   "cell_type": "code",
   "execution_count": 11,
   "metadata": {},
   "outputs": [
    {
     "name": "stdout",
     "output_type": "stream",
     "text": [
      "Enter two integers :8 5\n",
      "8 + 5= 13\n",
      "8 - 5= 3\n",
      "8 * 5= 40\n",
      "8 / 5= 1.6\n",
      "8 % 5 = 3\n"
     ]
    }
   ],
   "source": [
    "numbers=input('Enter two integers :')\n",
    "numbers_list=numbers.split(\" \")\n",
    "a,b=list(map(int,numbers_list))\n",
    "print(\"%s + %s= %s\" %(a,b,a+b))\n",
    "print(\"%s - %s= %s\" %(a,b,a-b))\n",
    "print(\"%s * %s= %s\" %(a,b,a*b))\n",
    "print(\"%s / %s= %s\" %(a,b,a/b))\n",
    "print(\"%s %% %s = %s\" %(a,b,a%b))"
   ]
  },
  {
   "cell_type": "markdown",
   "metadata": {},
   "source": [
    "# (문제5)\n",
    "두 정수를 입력 받아, 합과 평균을 구하여 출력하는 프로그램을 작성하시오.\n",
    "(평균 소수 첫째 자리까지 나타내기)"
   ]
  },
  {
   "cell_type": "code",
   "execution_count": 14,
   "metadata": {},
   "outputs": [
    {
     "name": "stdout",
     "output_type": "stream",
     "text": [
      "Enter two integers: 70 91\n",
      "The sum of 70 and 91 is 161\n",
      "The average of numbers is 80.5\n"
     ]
    }
   ],
   "source": [
    "numbers=input('Enter two integers: ')\n",
    "numbers_list=numbers.split(\" \")\n",
    "a,b=list(map(int,numbers_list))\n",
    "print(\"The sum of %s and %s is %s\" %(a,b,a+b))\n",
    "print(\"The average of numbers is %s\" %((a+b)/2))"
   ]
  },
  {
   "cell_type": "markdown",
   "metadata": {},
   "source": [
    "# (문제6)\n",
    "아래의 실행예제를 참고하여 프로그램을 작성하라."
   ]
  },
  {
   "cell_type": "code",
   "execution_count": 19,
   "metadata": {},
   "outputs": [
    {
     "name": "stdout",
     "output_type": "stream",
     "text": [
      "날짜(연/월/일)입력: 2020/11/02\n",
      "입력한 날짜의 10년 후는 2030년 11월 02일\n"
     ]
    }
   ],
   "source": [
    "date=input('날짜(연/월/일)입력: ')\n",
    "date_list=date.split(\"/\")\n",
    "a,b,c=date_list\n",
    "print(\"입력한 날짜의 10년 후는 %s년 %s월 %s일\" %(int(a)+10, b, c))"
   ]
  },
  {
   "cell_type": "code",
   "execution_count": 142,
   "metadata": {},
   "outputs": [
    {
     "data": {
      "text/plain": [
       "[1, 2, 3, 4, 5, 6, 7, 8, 9, 10]"
      ]
     },
     "execution_count": 142,
     "metadata": {},
     "output_type": "execute_result"
    }
   ],
   "source": [
    "#실습1) 1부터 10까지 리스트 생성\n",
    "list(range(1,11))"
   ]
  },
  {
   "cell_type": "code",
   "execution_count": 146,
   "metadata": {},
   "outputs": [
    {
     "data": {
      "text/plain": [
       "[10, 9, 8, 7, 6, 5, 4, 3, 2, 1]"
      ]
     },
     "execution_count": 146,
     "metadata": {},
     "output_type": "execute_result"
    }
   ],
   "source": [
    "#실습2) 10부터 1까지 리스트 생성\n",
    "list(range(10,0,-1))"
   ]
  },
  {
   "cell_type": "code",
   "execution_count": 149,
   "metadata": {},
   "outputs": [
    {
     "data": {
      "text/plain": [
       "[2, 4, 6, 8, 10]"
      ]
     },
     "execution_count": 149,
     "metadata": {},
     "output_type": "execute_result"
    }
   ],
   "source": [
    "#실습3) 1부터 10까지 짝수 리스트 생성\n",
    "even_list=list(range(2,11,2))\n",
    "even_list"
   ]
  },
  {
   "cell_type": "code",
   "execution_count": 151,
   "metadata": {},
   "outputs": [
    {
     "data": {
      "text/plain": [
       "[1, 3, 5, 7, 9]"
      ]
     },
     "execution_count": 151,
     "metadata": {},
     "output_type": "execute_result"
    }
   ],
   "source": [
    "#실습4) 1부터 10까지 홀수 리스트 생성\n",
    "odd_list=list(range(1,10,2))\n",
    "odd_list"
   ]
  },
  {
   "cell_type": "code",
   "execution_count": 152,
   "metadata": {},
   "outputs": [
    {
     "data": {
      "text/plain": [
       "[2, 4, 6, 8, 10, 1, 3, 5, 7, 9]"
      ]
     },
     "execution_count": 152,
     "metadata": {},
     "output_type": "execute_result"
    }
   ],
   "source": [
    "#실습5) 리스트 더하기\n",
    "even_list+odd_list"
   ]
  },
  {
   "cell_type": "markdown",
   "metadata": {},
   "source": [
    "# 1. 조건문(if)\n",
    "문제1) 입력 받은 정수가 짝수인지 홀수인지 판별 "
   ]
  },
  {
   "cell_type": "code",
   "execution_count": 29,
   "metadata": {},
   "outputs": [
    {
     "name": "stdout",
     "output_type": "stream",
     "text": [
      "Enter a number: 7\n",
      "7 is Odd number\n"
     ]
    }
   ],
   "source": [
    "number=input(\"Enter a number: \")\n",
    "if int(number)%2==0 : \n",
    "    print (\"%s is Even number\" %(number))\n",
    "else : \n",
    "    print (\"%s is Odd number\" %(number))"
   ]
  },
  {
   "cell_type": "code",
   "execution_count": 30,
   "metadata": {},
   "outputs": [
    {
     "name": "stdout",
     "output_type": "stream",
     "text": [
      "Enter a number: 14\n",
      "14 is Even number\n"
     ]
    }
   ],
   "source": [
    "number=input(\"Enter a number: \")\n",
    "if int(number)%2==0 : \n",
    "    print (\"%s is Even number\" %(number))\n",
    "else : \n",
    "    print (\"%s is Odd number\" %(number))"
   ]
  },
  {
   "cell_type": "markdown",
   "metadata": {},
   "source": [
    "문제2) 프로그래밍 과목의 중간고사와 기말고사 점수를 입력 받아 평균과 학점을 구하는 프로그램을 작성하시오.\n",
    "\n",
    "조건) \n",
    "- 평균이 90이상 : A\n",
    "- 80이상 ~ 90 미만 : B\n",
    "- 70이상 ~ 80 미만 : C\n",
    "- 60이상 ~ 70 미만 : D\n",
    "- 60미만 : F"
   ]
  },
  {
   "cell_type": "code",
   "execution_count": 44,
   "metadata": {},
   "outputs": [
    {
     "name": "stdout",
     "output_type": "stream",
     "text": [
      "Enter your midterm score: 77\n",
      "Enter your final score: 56\n",
      "Averge:66.5\n",
      "Grade : D\n"
     ]
    }
   ],
   "source": [
    "mid=input(\"Enter your midterm score: \")\n",
    "fin=input(\"Enter your final score: \")\n",
    "Average=(int(mid)+int(fin))/2\n",
    "print(\"Averge:%s\" %(Average))\n",
    "if int(Average) >=90 :\n",
    "    print(\"Grade : A\")\n",
    "elif 80<=int(Average)<90 : \n",
    "    print(\"Grade : B\")\n",
    "elif 70<=int(Average)<80 :     \n",
    "    print(\"Grade : C\")\n",
    "elif 60<=int(Average)<70 :     \n",
    "    print(\"Grade : D\")\n",
    "elif int(Average)<60 :     \n",
    "    print(\"Grade : F\")"
   ]
  },
  {
   "cell_type": "markdown",
   "metadata": {},
   "source": [
    "문제3) PPT문제 학생수준평가 시험에서 영어 점수와 수학 점수가 합해서 110점 이상이면 합격이다. 단, 각 점수가 40전 미만이면 불합격이다. 영어(eng), 수학(math)점수를 입력 받아 합격여부를 출력하는 프로그램을 작성하시오 "
   ]
  },
  {
   "cell_type": "code",
   "execution_count": 49,
   "metadata": {},
   "outputs": [
    {
     "name": "stdout",
     "output_type": "stream",
     "text": [
      "영어 점수 입력: 35\n",
      "수학 점수 입력: 30\n",
      "불합격 : 총합 점수 부족\n"
     ]
    }
   ],
   "source": [
    "eng=input(\"영어 점수 입력: \")\n",
    "math=input(\"수학 점수 입력: \")\n",
    "if int(eng)+int(math)<110 :\n",
    "    print(\"불합격 : 총합 점수 부족\")\n",
    "elif int(eng)<40 : \n",
    "    print(\"불합격 : 영어 점수 부족\")\n",
    "elif int(math)<40 : \n",
    "    print(\"불합격 : 수학 점수 부족\")\n",
    "else : \n",
    "    print(\"합격\")"
   ]
  },
  {
   "cell_type": "markdown",
   "metadata": {},
   "source": [
    "문제4)PPT문제 세 개의 정수를 입력 받아, 가장 큰 수만 출력하는 프로그램을 작성하시오 (max 함수 이용하지 않고 구할 것) "
   ]
  },
  {
   "cell_type": "code",
   "execution_count": 153,
   "metadata": {},
   "outputs": [
    {
     "name": "stdout",
     "output_type": "stream",
     "text": [
      "세 개의 수를 입력하시오: 30 22 50\n",
      "가장 큰 수는 50입니다.\n"
     ]
    }
   ],
   "source": [
    "numbers=input(\"세 개의 수를 입력하시오: \")\n",
    "numbers_list=numbers.split(\" \")\n",
    "a,b,c=list(map(int,numbers_list))\n",
    "if a>=b : \n",
    "    if a>=c : \n",
    "        print(\"가장 큰 수는 %s입니다.\" %(a))\n",
    "    else : \n",
    "        print(\"가장 큰 수는 %s입니다.\" %(c))\n",
    "else : \n",
    "    if b>=c : \n",
    "        print(\"가장 큰 수는 %s입니다\" %(b))\n",
    "    else : \n",
    "        print(\"가장 큰 수는 %s입니다\" %(c))"
   ]
  },
  {
   "cell_type": "markdown",
   "metadata": {},
   "source": [
    "# 2. 반복문 \n",
    "문제1)단어(문자열)가 주어질 때, 아래와 같이 출력되도록 작성하시오. "
   ]
  },
  {
   "cell_type": "markdown",
   "metadata": {},
   "source": [
    "(1) while 문을 이용하여 작성 (문자열)"
   ]
  },
  {
   "cell_type": "code",
   "execution_count": 60,
   "metadata": {},
   "outputs": [
    {
     "name": "stdout",
     "output_type": "stream",
     "text": [
      "P\n",
      "y\n",
      "t\n",
      "h\n",
      "o\n",
      "n\n"
     ]
    }
   ],
   "source": [
    "word='Python'\n",
    "number = 0 \n",
    "while number < len(word) : \n",
    "    print (word[number])\n",
    "    number = number+1"
   ]
  },
  {
   "cell_type": "markdown",
   "metadata": {},
   "source": [
    "(2)for문을 이용하여 작성 (문자열)"
   ]
  },
  {
   "cell_type": "code",
   "execution_count": 133,
   "metadata": {},
   "outputs": [
    {
     "name": "stdout",
     "output_type": "stream",
     "text": [
      "P\n",
      "y\n",
      "t\n",
      "h\n",
      "o\n",
      "n\n"
     ]
    }
   ],
   "source": [
    "word='Python'\n",
    "for x in word:\n",
    "    print (x)"
   ]
  },
  {
   "cell_type": "markdown",
   "metadata": {},
   "source": [
    "문제2) 아래와 같이 출력되는 프로그램을 작성하시오 "
   ]
  },
  {
   "cell_type": "code",
   "execution_count": 66,
   "metadata": {},
   "outputs": [
    {
     "name": "stdout",
     "output_type": "stream",
     "text": [
      "10,9,8,7,6,5,4,3,2,1,Happy new year!!\n"
     ]
    }
   ],
   "source": [
    "number=10\n",
    "while number > 0: \n",
    "    print(number,end=\",\")\n",
    "    number=number-1\n",
    "print(\"Happy new year!!\")"
   ]
  },
  {
   "cell_type": "markdown",
   "metadata": {},
   "source": [
    "문제3) 양의 두 정수 a,b를 입력 받아, a부터 b까지의 정수의 합을 구하여 출력하는 프로그램을 작성하시오 "
   ]
  },
  {
   "cell_type": "code",
   "execution_count": 68,
   "metadata": {},
   "outputs": [
    {
     "name": "stdout",
     "output_type": "stream",
     "text": [
      "Enter two integers: 5 10\n",
      "The sum from 5 to 10 is 45\n"
     ]
    }
   ],
   "source": [
    "nums=input(\"Enter two integers: \")\n",
    "nums_list=nums.split(\" \")\n",
    "a,b=list(map(int,nums_list))\n",
    "number=a\n",
    "sum=0\n",
    "while a<=number<=b : \n",
    "    sum=sum+number \n",
    "    number=number+1\n",
    "print(\"The sum from %s to %s is %s\" %(a,b,sum))"
   ]
  },
  {
   "cell_type": "markdown",
   "metadata": {},
   "source": [
    "문제4)주어진 문자열에 문자a가 몇 개 있는지 구하는 프로그램을 작성하시오.(for문 사용할 것)"
   ]
  },
  {
   "cell_type": "code",
   "execution_count": 141,
   "metadata": {},
   "outputs": [
    {
     "name": "stdout",
     "output_type": "stream",
     "text": [
      "3\n"
     ]
    }
   ],
   "source": [
    "word='banana'\n",
    "num=0\n",
    "for x in word: \n",
    "    if x == 'a':\n",
    "        num=num+1\n",
    "print(num)"
   ]
  },
  {
   "cell_type": "markdown",
   "metadata": {},
   "source": [
    "문제5)for문과 range()함수를 이용하여 다음과 같이 출력되도록 작성하시오. "
   ]
  },
  {
   "cell_type": "code",
   "execution_count": 83,
   "metadata": {},
   "outputs": [
    {
     "name": "stdout",
     "output_type": "stream",
     "text": [
      "0 1 2 3 4 5 6 7 8 9 \n",
      "0 5 10 15 20 25 30 35 40 45 50 \n",
      "10 9 8 7 6 5 4 3 2 1 "
     ]
    }
   ],
   "source": [
    "for x in range(10):\n",
    "    print(x, end=\" \")\n",
    "print('')\n",
    "for x in range(0,51,5):\n",
    "    print(x, end=\" \")\n",
    "print('')\n",
    "for x in range(10,0,-1):\n",
    "    print(x, end=\" \")"
   ]
  },
  {
   "cell_type": "markdown",
   "metadata": {},
   "source": [
    "문제6)for문을 사용하여 리스트(colors)의 모든 내용을 출력하시오. (단,range()를 이용하지 않는다."
   ]
  },
  {
   "cell_type": "code",
   "execution_count": 84,
   "metadata": {},
   "outputs": [
    {
     "name": "stdout",
     "output_type": "stream",
     "text": [
      "red\n",
      "green\n",
      "blue\n"
     ]
    }
   ],
   "source": [
    "colors=[\"red\",\"green\",\"blue\"]\n",
    "for x in range(len(colors)):\n",
    "    print(colors[x])"
   ]
  },
  {
   "cell_type": "markdown",
   "metadata": {},
   "source": [
    "문제7)리스트 a 전체를 반복해서 방문하되 짝수만 출력하시오.(for 문 사용) "
   ]
  },
  {
   "cell_type": "code",
   "execution_count": 86,
   "metadata": {},
   "outputs": [
    {
     "name": "stdout",
     "output_type": "stream",
     "text": [
      "4 6 8 10 12 "
     ]
    }
   ],
   "source": [
    "a=[1,3,4,5,6,7,8,9,10,11,12,13]\n",
    "for x in a:\n",
    "    if x%2!=0:\n",
    "        continue\n",
    "    print(x, end=\" \")"
   ]
  },
  {
   "cell_type": "markdown",
   "metadata": {},
   "source": [
    "문제8) 구구단 출력1 - PPT문제 "
   ]
  },
  {
   "cell_type": "code",
   "execution_count": 154,
   "metadata": {},
   "outputs": [
    {
     "name": "stdout",
     "output_type": "stream",
     "text": [
      "출력하고 싶은 단을 입력하세요: 7\n",
      "7*1 = 7\n",
      "7*2 = 14\n",
      "7*3 = 21\n",
      "7*4 = 28\n",
      "7*5 = 35\n",
      "7*6 = 42\n",
      "7*7 = 49\n",
      "7*8 = 56\n",
      "7*9 = 63\n"
     ]
    }
   ],
   "source": [
    "num=input(\"출력하고 싶은 단을 입력하세요: \")\n",
    "for x in range(1,10):  \n",
    "    print(\"%s*%s = %s\" %(num,x,x*int(num))) "
   ]
  },
  {
   "cell_type": "markdown",
   "metadata": {},
   "source": [
    "문제9)구구단 출력2(중첩 반복문)"
   ]
  },
  {
   "cell_type": "code",
   "execution_count": 119,
   "metadata": {},
   "outputs": [
    {
     "name": "stdout",
     "output_type": "stream",
     "text": [
      "==2단==\n",
      "2*1=2\n",
      "2*2=4\n",
      "2*3=6\n",
      "2*4=8\n",
      "2*5=10\n",
      "2*6=12\n",
      "2*7=14\n",
      "2*8=16\n",
      "2*9=18\n",
      "==3단==\n",
      "3*1=3\n",
      "3*2=6\n",
      "3*3=9\n",
      "3*4=12\n",
      "3*5=15\n",
      "3*6=18\n",
      "3*7=21\n",
      "3*8=24\n",
      "3*9=27\n",
      "==4단==\n",
      "4*1=4\n",
      "4*2=8\n",
      "4*3=12\n",
      "4*4=16\n",
      "4*5=20\n",
      "4*6=24\n",
      "4*7=28\n",
      "4*8=32\n",
      "4*9=36\n",
      "==5단==\n",
      "5*1=5\n",
      "5*2=10\n",
      "5*3=15\n",
      "5*4=20\n",
      "5*5=25\n",
      "5*6=30\n",
      "5*7=35\n",
      "5*8=40\n",
      "5*9=45\n",
      "==6단==\n",
      "6*1=6\n",
      "6*2=12\n",
      "6*3=18\n",
      "6*4=24\n",
      "6*5=30\n",
      "6*6=36\n",
      "6*7=42\n",
      "6*8=48\n",
      "6*9=54\n",
      "==7단==\n",
      "7*1=7\n",
      "7*2=14\n",
      "7*3=21\n",
      "7*4=28\n",
      "7*5=35\n",
      "7*6=42\n",
      "7*7=49\n",
      "7*8=56\n",
      "7*9=63\n",
      "==8단==\n",
      "8*1=8\n",
      "8*2=16\n",
      "8*3=24\n",
      "8*4=32\n",
      "8*5=40\n",
      "8*6=48\n",
      "8*7=56\n",
      "8*8=64\n",
      "8*9=72\n",
      "==9단==\n",
      "9*1=9\n",
      "9*2=18\n",
      "9*3=27\n",
      "9*4=36\n",
      "9*5=45\n",
      "9*6=54\n",
      "9*7=63\n",
      "9*8=72\n",
      "9*9=81\n"
     ]
    }
   ],
   "source": [
    "for x in range(2,10):\n",
    "    print(\"==%s단==\" %(x))\n",
    "    for y in range(1,10):\n",
    "        print(\"%s*%s=%s\" %(x,y,x*y))"
   ]
  },
  {
   "cell_type": "raw",
   "metadata": {},
   "source": [
    "문제10) 구구단 출력2(중첩 반복문) "
   ]
  },
  {
   "cell_type": "code",
   "execution_count": 123,
   "metadata": {},
   "outputs": [
    {
     "name": "stdout",
     "output_type": "stream",
     "text": [
      "2*1=2 3*1=3 4*1=4 5*1=5 6*1=6 7*1=7 8*1=8 9*1=9  \n",
      "2*2=4 3*2=6 4*2=8 5*2=10 6*2=12 7*2=14 8*2=16 9*2=18  \n",
      "2*3=6 3*3=9 4*3=12 5*3=15 6*3=18 7*3=21 8*3=24 9*3=27  \n",
      "2*4=8 3*4=12 4*4=16 5*4=20 6*4=24 7*4=28 8*4=32 9*4=36  \n",
      "2*5=10 3*5=15 4*5=20 5*5=25 6*5=30 7*5=35 8*5=40 9*5=45  \n",
      "2*6=12 3*6=18 4*6=24 5*6=30 6*6=36 7*6=42 8*6=48 9*6=54  \n",
      "2*7=14 3*7=21 4*7=28 5*7=35 6*7=42 7*7=49 8*7=56 9*7=63  \n",
      "2*8=16 3*8=24 4*8=32 5*8=40 6*8=48 7*8=56 8*8=64 9*8=72  \n",
      "2*9=18 3*9=27 4*9=36 5*9=45 6*9=54 7*9=63 8*9=72 9*9=81  \n"
     ]
    }
   ],
   "source": [
    "for x in range (1,10): \n",
    "    for y in range (2,10):\n",
    "        print(\"%s*%s=%s\" %(y,x,y*x),end=\" \")\n",
    "    print(\" \")    "
   ]
  }
 ],
 "metadata": {
  "kernelspec": {
   "display_name": "Python 3",
   "language": "python",
   "name": "python3"
  },
  "language_info": {
   "codemirror_mode": {
    "name": "ipython",
    "version": 3
   },
   "file_extension": ".py",
   "mimetype": "text/x-python",
   "name": "python",
   "nbconvert_exporter": "python",
   "pygments_lexer": "ipython3",
   "version": "3.8.3"
  }
 },
 "nbformat": 4,
 "nbformat_minor": 4
}
